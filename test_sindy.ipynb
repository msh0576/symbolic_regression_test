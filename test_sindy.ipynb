{
 "cells": [
  {
   "cell_type": "code",
   "execution_count": 2,
   "metadata": {},
   "outputs": [],
   "source": [
    "import numpy as np\n",
    "import os\n",
    "import pyreadr\n",
    "import matplotlib.pyplot as plt\n",
    "import pandas as pd\n",
    "import seaborn as sns\n",
    "import scipy.stats as stats\n",
    "import torch\n",
    "# import lightgbm as lgb\n",
    "from sklearn import preprocessing\n",
    "from sklearn.metrics import mean_squared_error\n",
    "# from keras.models import Sequential\n",
    "# from keras.layers import Dense\n",
    "# from keras.layers import LSTM\n",
    "# import tensorflow as tf\n",
    "\n",
    "sns.set()\n"
   ]
  },
  {
   "cell_type": "markdown",
   "metadata": {},
   "source": [
    "Sindy packages"
   ]
  },
  {
   "cell_type": "code",
   "execution_count": 3,
   "metadata": {},
   "outputs": [],
   "source": [
    "import numpy as np\n",
    "import pysindy as ps\n"
   ]
  },
  {
   "cell_type": "markdown",
   "metadata": {},
   "source": [
    "Setup training and testing data"
   ]
  },
  {
   "cell_type": "code",
   "execution_count": 4,
   "metadata": {},
   "outputs": [],
   "source": [
    "train_normal_path = './Dataset/TEP_FaultFree_Training.RData'\n",
    "train_faulty_path = './Dataset/TEP_Faulty_Training.RData'\n",
    "\n",
    "test_normal_path = './Dataset/TEP_FaultFree_Testing.RData'\n",
    "test_faulty_path = './Dataset/TEP_Faulty_Testing.RData'\n",
    "\n",
    "\n",
    "train_df = pyreadr.read_r(train_normal_path)['fault_free_training']    # (250000, 55)\n",
    "test_df = pyreadr.read_r(test_faulty_path)['faulty_testing']"
   ]
  },
  {
   "cell_type": "markdown",
   "metadata": {},
   "source": [
    "simulationRun = 1 | faultNumber = 0 (faultless)  dataset 설정\n",
    "샘플이 총 500개있음. 500 샘플을 시간축으로 간주함."
   ]
  },
  {
   "cell_type": "code",
   "execution_count": 5,
   "metadata": {},
   "outputs": [
    {
     "name": "stdout",
     "output_type": "stream",
     "text": [
      "feature_names:Index(['xmeas_1', 'xmeas_2', 'xmeas_3', 'xmeas_4', 'xmeas_5', 'xmeas_6',\n",
      "       'xmeas_7', 'xmeas_8', 'xmeas_9', 'xmeas_10', 'xmeas_11', 'xmeas_12',\n",
      "       'xmeas_13', 'xmeas_14', 'xmeas_15', 'xmeas_16', 'xmeas_17', 'xmeas_18',\n",
      "       'xmeas_19', 'xmeas_20', 'xmeas_21', 'xmeas_22', 'xmeas_23', 'xmeas_24',\n",
      "       'xmeas_25', 'xmeas_26', 'xmeas_27', 'xmeas_28', 'xmeas_29', 'xmeas_30',\n",
      "       'xmeas_31', 'xmeas_32', 'xmeas_33', 'xmeas_34', 'xmeas_35', 'xmeas_36',\n",
      "       'xmeas_37', 'xmeas_38', 'xmeas_39', 'xmeas_40', 'xmeas_41', 'xmv_1',\n",
      "       'xmv_2', 'xmv_3', 'xmv_4', 'xmv_5', 'xmv_6', 'xmv_7', 'xmv_8', 'xmv_9',\n",
      "       'xmv_10', 'xmv_11'],\n",
      "      dtype='object')\n"
     ]
    }
   ],
   "source": [
    "feature_names = train_df.columns[3:]\n",
    "train_normal_df = train_df[(train_df.faultNumber==0)&(train_df.simulationRun.isin(range(11)))][feature_names]   # (10000, 52)\n",
    "X_np = train_normal_df.to_numpy()\n",
    "\n",
    "dt = 1\n",
    "n_states = len(train_normal_df.columns)\n",
    "t = len(train_normal_df.index)\n",
    "print(f'feature_names:{feature_names}')"
   ]
  },
  {
   "cell_type": "markdown",
   "metadata": {},
   "source": [
    "Scaler"
   ]
  },
  {
   "cell_type": "code",
   "execution_count": 6,
   "metadata": {},
   "outputs": [],
   "source": [
    "scaler = preprocessing.MinMaxScaler()\n",
    "train_df_scaled = pd.DataFrame(scaler.fit_transform(X = train_normal_df))\n",
    "train_df_scaled\n",
    "X_np = train_df_scaled.to_numpy()\n"
   ]
  },
  {
   "cell_type": "markdown",
   "metadata": {},
   "source": [
    "truncated SVD\n"
   ]
  },
  {
   "cell_type": "code",
   "execution_count": 7,
   "metadata": {},
   "outputs": [],
   "source": [
    "SVD_RANK = 15\n",
    "# get SVD rank\n",
    "X1 = X_np[:-1, :]   # (499, 52)\n",
    "X2 = X_np[1:, :]\n",
    "\n",
    "U, s, Vh = np.linalg.svd(X1.T, full_matrices=False)\n",
    "\n"
   ]
  },
  {
   "cell_type": "markdown",
   "metadata": {},
   "source": [
    "differentiation submodule"
   ]
  },
  {
   "cell_type": "code",
   "execution_count": 8,
   "metadata": {},
   "outputs": [],
   "source": [
    "differentiation_method = ps.FiniteDifference(order=2)\n"
   ]
  },
  {
   "cell_type": "markdown",
   "metadata": {},
   "source": [
    "Feature_library submodule"
   ]
  },
  {
   "cell_type": "code",
   "execution_count": 9,
   "metadata": {},
   "outputs": [],
   "source": [
    "feature_library = ps.PolynomialLibrary(degree=3)\n",
    "\n",
    "# Note: We could instead call ps.feature_library.PolynomialLibrary(degree=3)"
   ]
  },
  {
   "cell_type": "markdown",
   "metadata": {},
   "source": [
    "Next we select which optimizer should be used."
   ]
  },
  {
   "cell_type": "code",
   "execution_count": 10,
   "metadata": {},
   "outputs": [],
   "source": [
    "optimizer = ps.STLSQ(threshold=0.2)\n",
    "\n",
    "# Note: We could instead call ps.optimizers.STLSQ(threshold=0.2)"
   ]
  },
  {
   "cell_type": "markdown",
   "metadata": {},
   "source": [
    "Finally, we bring these three components together in one `SINDy` object."
   ]
  },
  {
   "cell_type": "code",
   "execution_count": 11,
   "metadata": {},
   "outputs": [],
   "source": [
    "model = ps.SINDy(\n",
    "    differentiation_method=differentiation_method,\n",
    "    feature_library=feature_library,\n",
    "    optimizer=optimizer,\n",
    "    feature_names=feature_names,\n",
    ")"
   ]
  },
  {
   "cell_type": "markdown",
   "metadata": {},
   "source": [
    "Following the `scikit-learn` workflow, we first instantiate a `SINDy` class object with the desired properties, then fit it to the data in separate step."
   ]
  },
  {
   "cell_type": "code",
   "execution_count": 12,
   "metadata": {},
   "outputs": [
    {
     "name": "stderr",
     "output_type": "stream",
     "text": [
      "/home/sihoon/anaconda3/envs/HAVOK_test/lib/python3.10/site-packages/pysindy/optimizers/stlsq.py:201: UserWarning: Sparsity parameter is too big (0.2) and eliminated all coefficients\n",
      "  warnings.warn(\n",
      "/home/sihoon/anaconda3/envs/HAVOK_test/lib/python3.10/site-packages/pysindy/optimizers/stlsq.py:201: UserWarning: Sparsity parameter is too big (0.2) and eliminated all coefficients\n",
      "  warnings.warn(\n",
      "/home/sihoon/anaconda3/envs/HAVOK_test/lib/python3.10/site-packages/pysindy/optimizers/stlsq.py:201: UserWarning: Sparsity parameter is too big (0.2) and eliminated all coefficients\n",
      "  warnings.warn(\n",
      "/home/sihoon/anaconda3/envs/HAVOK_test/lib/python3.10/site-packages/pysindy/optimizers/stlsq.py:201: UserWarning: Sparsity parameter is too big (0.2) and eliminated all coefficients\n",
      "  warnings.warn(\n",
      "/home/sihoon/anaconda3/envs/HAVOK_test/lib/python3.10/site-packages/pysindy/optimizers/stlsq.py:201: UserWarning: Sparsity parameter is too big (0.2) and eliminated all coefficients\n",
      "  warnings.warn(\n",
      "/home/sihoon/anaconda3/envs/HAVOK_test/lib/python3.10/site-packages/pysindy/optimizers/stlsq.py:201: UserWarning: Sparsity parameter is too big (0.2) and eliminated all coefficients\n",
      "  warnings.warn(\n",
      "/home/sihoon/anaconda3/envs/HAVOK_test/lib/python3.10/site-packages/pysindy/optimizers/stlsq.py:201: UserWarning: Sparsity parameter is too big (0.2) and eliminated all coefficients\n",
      "  warnings.warn(\n",
      "/home/sihoon/anaconda3/envs/HAVOK_test/lib/python3.10/site-packages/pysindy/optimizers/stlsq.py:201: UserWarning: Sparsity parameter is too big (0.2) and eliminated all coefficients\n",
      "  warnings.warn(\n",
      "/home/sihoon/anaconda3/envs/HAVOK_test/lib/python3.10/site-packages/pysindy/optimizers/stlsq.py:201: UserWarning: Sparsity parameter is too big (0.2) and eliminated all coefficients\n",
      "  warnings.warn(\n",
      "/home/sihoon/anaconda3/envs/HAVOK_test/lib/python3.10/site-packages/pysindy/optimizers/stlsq.py:201: UserWarning: Sparsity parameter is too big (0.2) and eliminated all coefficients\n",
      "  warnings.warn(\n",
      "/home/sihoon/anaconda3/envs/HAVOK_test/lib/python3.10/site-packages/pysindy/optimizers/stlsq.py:201: UserWarning: Sparsity parameter is too big (0.2) and eliminated all coefficients\n",
      "  warnings.warn(\n",
      "/home/sihoon/anaconda3/envs/HAVOK_test/lib/python3.10/site-packages/pysindy/optimizers/stlsq.py:201: UserWarning: Sparsity parameter is too big (0.2) and eliminated all coefficients\n",
      "  warnings.warn(\n",
      "/home/sihoon/anaconda3/envs/HAVOK_test/lib/python3.10/site-packages/pysindy/optimizers/stlsq.py:201: UserWarning: Sparsity parameter is too big (0.2) and eliminated all coefficients\n",
      "  warnings.warn(\n",
      "/home/sihoon/anaconda3/envs/HAVOK_test/lib/python3.10/site-packages/pysindy/optimizers/stlsq.py:201: UserWarning: Sparsity parameter is too big (0.2) and eliminated all coefficients\n",
      "  warnings.warn(\n",
      "/home/sihoon/anaconda3/envs/HAVOK_test/lib/python3.10/site-packages/pysindy/optimizers/stlsq.py:201: UserWarning: Sparsity parameter is too big (0.2) and eliminated all coefficients\n",
      "  warnings.warn(\n",
      "/home/sihoon/anaconda3/envs/HAVOK_test/lib/python3.10/site-packages/pysindy/optimizers/stlsq.py:201: UserWarning: Sparsity parameter is too big (0.2) and eliminated all coefficients\n",
      "  warnings.warn(\n",
      "/home/sihoon/anaconda3/envs/HAVOK_test/lib/python3.10/site-packages/pysindy/optimizers/stlsq.py:201: UserWarning: Sparsity parameter is too big (0.2) and eliminated all coefficients\n",
      "  warnings.warn(\n",
      "/home/sihoon/anaconda3/envs/HAVOK_test/lib/python3.10/site-packages/pysindy/optimizers/stlsq.py:201: UserWarning: Sparsity parameter is too big (0.2) and eliminated all coefficients\n",
      "  warnings.warn(\n",
      "/home/sihoon/anaconda3/envs/HAVOK_test/lib/python3.10/site-packages/pysindy/optimizers/stlsq.py:201: UserWarning: Sparsity parameter is too big (0.2) and eliminated all coefficients\n",
      "  warnings.warn(\n",
      "/home/sihoon/anaconda3/envs/HAVOK_test/lib/python3.10/site-packages/pysindy/optimizers/stlsq.py:201: UserWarning: Sparsity parameter is too big (0.2) and eliminated all coefficients\n",
      "  warnings.warn(\n",
      "/home/sihoon/anaconda3/envs/HAVOK_test/lib/python3.10/site-packages/pysindy/optimizers/stlsq.py:201: UserWarning: Sparsity parameter is too big (0.2) and eliminated all coefficients\n",
      "  warnings.warn(\n",
      "/home/sihoon/anaconda3/envs/HAVOK_test/lib/python3.10/site-packages/pysindy/optimizers/stlsq.py:201: UserWarning: Sparsity parameter is too big (0.2) and eliminated all coefficients\n",
      "  warnings.warn(\n",
      "/home/sihoon/anaconda3/envs/HAVOK_test/lib/python3.10/site-packages/pysindy/optimizers/stlsq.py:201: UserWarning: Sparsity parameter is too big (0.2) and eliminated all coefficients\n",
      "  warnings.warn(\n",
      "/home/sihoon/anaconda3/envs/HAVOK_test/lib/python3.10/site-packages/pysindy/optimizers/stlsq.py:201: UserWarning: Sparsity parameter is too big (0.2) and eliminated all coefficients\n",
      "  warnings.warn(\n",
      "/home/sihoon/anaconda3/envs/HAVOK_test/lib/python3.10/site-packages/pysindy/optimizers/stlsq.py:201: UserWarning: Sparsity parameter is too big (0.2) and eliminated all coefficients\n",
      "  warnings.warn(\n",
      "/home/sihoon/anaconda3/envs/HAVOK_test/lib/python3.10/site-packages/pysindy/optimizers/stlsq.py:201: UserWarning: Sparsity parameter is too big (0.2) and eliminated all coefficients\n",
      "  warnings.warn(\n",
      "/home/sihoon/anaconda3/envs/HAVOK_test/lib/python3.10/site-packages/pysindy/optimizers/stlsq.py:201: UserWarning: Sparsity parameter is too big (0.2) and eliminated all coefficients\n",
      "  warnings.warn(\n",
      "/home/sihoon/anaconda3/envs/HAVOK_test/lib/python3.10/site-packages/pysindy/optimizers/stlsq.py:201: UserWarning: Sparsity parameter is too big (0.2) and eliminated all coefficients\n",
      "  warnings.warn(\n",
      "/home/sihoon/anaconda3/envs/HAVOK_test/lib/python3.10/site-packages/pysindy/optimizers/stlsq.py:201: UserWarning: Sparsity parameter is too big (0.2) and eliminated all coefficients\n",
      "  warnings.warn(\n",
      "/home/sihoon/anaconda3/envs/HAVOK_test/lib/python3.10/site-packages/pysindy/optimizers/stlsq.py:201: UserWarning: Sparsity parameter is too big (0.2) and eliminated all coefficients\n",
      "  warnings.warn(\n",
      "/home/sihoon/anaconda3/envs/HAVOK_test/lib/python3.10/site-packages/pysindy/optimizers/stlsq.py:201: UserWarning: Sparsity parameter is too big (0.2) and eliminated all coefficients\n",
      "  warnings.warn(\n",
      "/home/sihoon/anaconda3/envs/HAVOK_test/lib/python3.10/site-packages/pysindy/optimizers/stlsq.py:201: UserWarning: Sparsity parameter is too big (0.2) and eliminated all coefficients\n",
      "  warnings.warn(\n",
      "/home/sihoon/anaconda3/envs/HAVOK_test/lib/python3.10/site-packages/pysindy/optimizers/stlsq.py:201: UserWarning: Sparsity parameter is too big (0.2) and eliminated all coefficients\n",
      "  warnings.warn(\n",
      "/home/sihoon/anaconda3/envs/HAVOK_test/lib/python3.10/site-packages/pysindy/optimizers/stlsq.py:201: UserWarning: Sparsity parameter is too big (0.2) and eliminated all coefficients\n",
      "  warnings.warn(\n",
      "/home/sihoon/anaconda3/envs/HAVOK_test/lib/python3.10/site-packages/pysindy/optimizers/stlsq.py:201: UserWarning: Sparsity parameter is too big (0.2) and eliminated all coefficients\n",
      "  warnings.warn(\n",
      "/home/sihoon/anaconda3/envs/HAVOK_test/lib/python3.10/site-packages/pysindy/optimizers/stlsq.py:201: UserWarning: Sparsity parameter is too big (0.2) and eliminated all coefficients\n",
      "  warnings.warn(\n",
      "/home/sihoon/anaconda3/envs/HAVOK_test/lib/python3.10/site-packages/pysindy/optimizers/stlsq.py:201: UserWarning: Sparsity parameter is too big (0.2) and eliminated all coefficients\n",
      "  warnings.warn(\n",
      "/home/sihoon/anaconda3/envs/HAVOK_test/lib/python3.10/site-packages/pysindy/optimizers/stlsq.py:201: UserWarning: Sparsity parameter is too big (0.2) and eliminated all coefficients\n",
      "  warnings.warn(\n",
      "/home/sihoon/anaconda3/envs/HAVOK_test/lib/python3.10/site-packages/pysindy/optimizers/stlsq.py:201: UserWarning: Sparsity parameter is too big (0.2) and eliminated all coefficients\n",
      "  warnings.warn(\n",
      "/home/sihoon/anaconda3/envs/HAVOK_test/lib/python3.10/site-packages/pysindy/optimizers/stlsq.py:201: UserWarning: Sparsity parameter is too big (0.2) and eliminated all coefficients\n",
      "  warnings.warn(\n",
      "/home/sihoon/anaconda3/envs/HAVOK_test/lib/python3.10/site-packages/pysindy/optimizers/stlsq.py:201: UserWarning: Sparsity parameter is too big (0.2) and eliminated all coefficients\n",
      "  warnings.warn(\n",
      "/home/sihoon/anaconda3/envs/HAVOK_test/lib/python3.10/site-packages/pysindy/optimizers/stlsq.py:201: UserWarning: Sparsity parameter is too big (0.2) and eliminated all coefficients\n",
      "  warnings.warn(\n",
      "/home/sihoon/anaconda3/envs/HAVOK_test/lib/python3.10/site-packages/pysindy/optimizers/stlsq.py:201: UserWarning: Sparsity parameter is too big (0.2) and eliminated all coefficients\n",
      "  warnings.warn(\n",
      "/home/sihoon/anaconda3/envs/HAVOK_test/lib/python3.10/site-packages/pysindy/optimizers/stlsq.py:201: UserWarning: Sparsity parameter is too big (0.2) and eliminated all coefficients\n",
      "  warnings.warn(\n",
      "/home/sihoon/anaconda3/envs/HAVOK_test/lib/python3.10/site-packages/pysindy/optimizers/stlsq.py:201: UserWarning: Sparsity parameter is too big (0.2) and eliminated all coefficients\n",
      "  warnings.warn(\n",
      "/home/sihoon/anaconda3/envs/HAVOK_test/lib/python3.10/site-packages/pysindy/optimizers/stlsq.py:201: UserWarning: Sparsity parameter is too big (0.2) and eliminated all coefficients\n",
      "  warnings.warn(\n",
      "/home/sihoon/anaconda3/envs/HAVOK_test/lib/python3.10/site-packages/pysindy/optimizers/stlsq.py:201: UserWarning: Sparsity parameter is too big (0.2) and eliminated all coefficients\n",
      "  warnings.warn(\n",
      "/home/sihoon/anaconda3/envs/HAVOK_test/lib/python3.10/site-packages/pysindy/optimizers/stlsq.py:201: UserWarning: Sparsity parameter is too big (0.2) and eliminated all coefficients\n",
      "  warnings.warn(\n",
      "/home/sihoon/anaconda3/envs/HAVOK_test/lib/python3.10/site-packages/pysindy/optimizers/stlsq.py:201: UserWarning: Sparsity parameter is too big (0.2) and eliminated all coefficients\n",
      "  warnings.warn(\n",
      "/home/sihoon/anaconda3/envs/HAVOK_test/lib/python3.10/site-packages/pysindy/optimizers/stlsq.py:201: UserWarning: Sparsity parameter is too big (0.2) and eliminated all coefficients\n",
      "  warnings.warn(\n",
      "/home/sihoon/anaconda3/envs/HAVOK_test/lib/python3.10/site-packages/pysindy/optimizers/stlsq.py:201: UserWarning: Sparsity parameter is too big (0.2) and eliminated all coefficients\n",
      "  warnings.warn(\n",
      "/home/sihoon/anaconda3/envs/HAVOK_test/lib/python3.10/site-packages/pysindy/optimizers/stlsq.py:201: UserWarning: Sparsity parameter is too big (0.2) and eliminated all coefficients\n",
      "  warnings.warn(\n",
      "/home/sihoon/anaconda3/envs/HAVOK_test/lib/python3.10/site-packages/pysindy/optimizers/stlsq.py:201: UserWarning: Sparsity parameter is too big (0.2) and eliminated all coefficients\n",
      "  warnings.warn(\n",
      "/home/sihoon/anaconda3/envs/HAVOK_test/lib/python3.10/site-packages/pysindy/optimizers/stlsq.py:201: UserWarning: Sparsity parameter is too big (0.2) and eliminated all coefficients\n",
      "  warnings.warn(\n",
      "/home/sihoon/anaconda3/envs/HAVOK_test/lib/python3.10/site-packages/pysindy/optimizers/stlsq.py:201: UserWarning: Sparsity parameter is too big (0.2) and eliminated all coefficients\n",
      "  warnings.warn(\n",
      "/home/sihoon/anaconda3/envs/HAVOK_test/lib/python3.10/site-packages/pysindy/optimizers/stlsq.py:201: UserWarning: Sparsity parameter is too big (0.2) and eliminated all coefficients\n",
      "  warnings.warn(\n",
      "/home/sihoon/anaconda3/envs/HAVOK_test/lib/python3.10/site-packages/pysindy/optimizers/stlsq.py:201: UserWarning: Sparsity parameter is too big (0.2) and eliminated all coefficients\n",
      "  warnings.warn(\n",
      "/home/sihoon/anaconda3/envs/HAVOK_test/lib/python3.10/site-packages/pysindy/optimizers/stlsq.py:201: UserWarning: Sparsity parameter is too big (0.2) and eliminated all coefficients\n",
      "  warnings.warn(\n",
      "/home/sihoon/anaconda3/envs/HAVOK_test/lib/python3.10/site-packages/pysindy/optimizers/stlsq.py:201: UserWarning: Sparsity parameter is too big (0.2) and eliminated all coefficients\n",
      "  warnings.warn(\n",
      "/home/sihoon/anaconda3/envs/HAVOK_test/lib/python3.10/site-packages/pysindy/optimizers/stlsq.py:201: UserWarning: Sparsity parameter is too big (0.2) and eliminated all coefficients\n",
      "  warnings.warn(\n"
     ]
    },
    {
     "data": {
      "text/html": [
       "<style>#sk-container-id-1 {color: black;background-color: white;}#sk-container-id-1 pre{padding: 0;}#sk-container-id-1 div.sk-toggleable {background-color: white;}#sk-container-id-1 label.sk-toggleable__label {cursor: pointer;display: block;width: 100%;margin-bottom: 0;padding: 0.3em;box-sizing: border-box;text-align: center;}#sk-container-id-1 label.sk-toggleable__label-arrow:before {content: \"▸\";float: left;margin-right: 0.25em;color: #696969;}#sk-container-id-1 label.sk-toggleable__label-arrow:hover:before {color: black;}#sk-container-id-1 div.sk-estimator:hover label.sk-toggleable__label-arrow:before {color: black;}#sk-container-id-1 div.sk-toggleable__content {max-height: 0;max-width: 0;overflow: hidden;text-align: left;background-color: #f0f8ff;}#sk-container-id-1 div.sk-toggleable__content pre {margin: 0.2em;color: black;border-radius: 0.25em;background-color: #f0f8ff;}#sk-container-id-1 input.sk-toggleable__control:checked~div.sk-toggleable__content {max-height: 200px;max-width: 100%;overflow: auto;}#sk-container-id-1 input.sk-toggleable__control:checked~label.sk-toggleable__label-arrow:before {content: \"▾\";}#sk-container-id-1 div.sk-estimator input.sk-toggleable__control:checked~label.sk-toggleable__label {background-color: #d4ebff;}#sk-container-id-1 div.sk-label input.sk-toggleable__control:checked~label.sk-toggleable__label {background-color: #d4ebff;}#sk-container-id-1 input.sk-hidden--visually {border: 0;clip: rect(1px 1px 1px 1px);clip: rect(1px, 1px, 1px, 1px);height: 1px;margin: -1px;overflow: hidden;padding: 0;position: absolute;width: 1px;}#sk-container-id-1 div.sk-estimator {font-family: monospace;background-color: #f0f8ff;border: 1px dotted black;border-radius: 0.25em;box-sizing: border-box;margin-bottom: 0.5em;}#sk-container-id-1 div.sk-estimator:hover {background-color: #d4ebff;}#sk-container-id-1 div.sk-parallel-item::after {content: \"\";width: 100%;border-bottom: 1px solid gray;flex-grow: 1;}#sk-container-id-1 div.sk-label:hover label.sk-toggleable__label {background-color: #d4ebff;}#sk-container-id-1 div.sk-serial::before {content: \"\";position: absolute;border-left: 1px solid gray;box-sizing: border-box;top: 0;bottom: 0;left: 50%;z-index: 0;}#sk-container-id-1 div.sk-serial {display: flex;flex-direction: column;align-items: center;background-color: white;padding-right: 0.2em;padding-left: 0.2em;position: relative;}#sk-container-id-1 div.sk-item {position: relative;z-index: 1;}#sk-container-id-1 div.sk-parallel {display: flex;align-items: stretch;justify-content: center;background-color: white;position: relative;}#sk-container-id-1 div.sk-item::before, #sk-container-id-1 div.sk-parallel-item::before {content: \"\";position: absolute;border-left: 1px solid gray;box-sizing: border-box;top: 0;bottom: 0;left: 50%;z-index: -1;}#sk-container-id-1 div.sk-parallel-item {display: flex;flex-direction: column;z-index: 1;position: relative;background-color: white;}#sk-container-id-1 div.sk-parallel-item:first-child::after {align-self: flex-end;width: 50%;}#sk-container-id-1 div.sk-parallel-item:last-child::after {align-self: flex-start;width: 50%;}#sk-container-id-1 div.sk-parallel-item:only-child::after {width: 0;}#sk-container-id-1 div.sk-dashed-wrapped {border: 1px dashed gray;margin: 0 0.4em 0.5em 0.4em;box-sizing: border-box;padding-bottom: 0.4em;background-color: white;}#sk-container-id-1 div.sk-label label {font-family: monospace;font-weight: bold;display: inline-block;line-height: 1.2em;}#sk-container-id-1 div.sk-label-container {text-align: center;}#sk-container-id-1 div.sk-container {/* jupyter's `normalize.less` sets `[hidden] { display: none; }` but bootstrap.min.css set `[hidden] { display: none !important; }` so we also need the `!important` here to be able to override the default hidden behavior on the sphinx rendered scikit-learn.org. See: https://github.com/scikit-learn/scikit-learn/issues/21755 */display: inline-block !important;position: relative;}#sk-container-id-1 div.sk-text-repr-fallback {display: none;}</style><div id=\"sk-container-id-1\" class=\"sk-top-container\"><div class=\"sk-text-repr-fallback\"><pre>SINDy(differentiation_method=FiniteDifference(),\n",
       "      feature_library=PolynomialLibrary(degree=3),\n",
       "      feature_names=Index([&#x27;xmeas_1&#x27;, &#x27;xmeas_2&#x27;, &#x27;xmeas_3&#x27;, &#x27;xmeas_4&#x27;, &#x27;xmeas_5&#x27;, &#x27;xmeas_6&#x27;,\n",
       "       &#x27;xmeas_7&#x27;, &#x27;xmeas_8&#x27;, &#x27;xmeas_9&#x27;, &#x27;xmeas_10&#x27;, &#x27;xmeas_11&#x27;, &#x27;xmeas_12&#x27;,\n",
       "       &#x27;xmeas_13&#x27;, &#x27;xmeas_14&#x27;, &#x27;xmeas_15&#x27;, &#x27;xmeas_16&#x27;, &#x27;xmeas_17&#x27;, &#x27;xmeas_18&#x27;,\n",
       "       &#x27;xmeas_19&#x27;, &#x27;xmeas_20&#x27;, &#x27;xmeas_21&#x27;, &#x27;xmeas_22&#x27;, &#x27;xmeas_23&#x27;, &#x27;xmeas_24&#x27;,\n",
       "       &#x27;xmeas_25&#x27;, &#x27;xmeas_26&#x27;, &#x27;xmeas_27&#x27;, &#x27;xmeas_28&#x27;, &#x27;xmeas_29&#x27;, &#x27;xmeas_30&#x27;,\n",
       "       &#x27;xmeas_31&#x27;, &#x27;xmeas_32&#x27;, &#x27;xmeas_33&#x27;, &#x27;xmeas_34&#x27;, &#x27;xmeas_35&#x27;, &#x27;xmeas_36&#x27;,\n",
       "       &#x27;xmeas_37&#x27;, &#x27;xmeas_38&#x27;, &#x27;xmeas_39&#x27;, &#x27;xmeas_40&#x27;, &#x27;xmeas_41&#x27;, &#x27;xmv_1&#x27;,\n",
       "       &#x27;xmv_2&#x27;, &#x27;xmv_3&#x27;, &#x27;xmv_4&#x27;, &#x27;xmv_5&#x27;, &#x27;xmv_6&#x27;, &#x27;xmv_7&#x27;, &#x27;xmv_8&#x27;, &#x27;xmv_9&#x27;,\n",
       "       &#x27;xmv_10&#x27;, &#x27;xmv_11&#x27;],\n",
       "      dtype=&#x27;object&#x27;),\n",
       "      optimizer=STLSQ(threshold=0.2))</pre><b>In a Jupyter environment, please rerun this cell to show the HTML representation or trust the notebook. <br />On GitHub, the HTML representation is unable to render, please try loading this page with nbviewer.org.</b></div><div class=\"sk-container\" hidden><div class=\"sk-item sk-dashed-wrapped\"><div class=\"sk-label-container\"><div class=\"sk-label sk-toggleable\"><input class=\"sk-toggleable__control sk-hidden--visually\" id=\"sk-estimator-id-1\" type=\"checkbox\" ><label for=\"sk-estimator-id-1\" class=\"sk-toggleable__label sk-toggleable__label-arrow\">SINDy</label><div class=\"sk-toggleable__content\"><pre>SINDy(differentiation_method=FiniteDifference(),\n",
       "      feature_library=PolynomialLibrary(degree=3),\n",
       "      feature_names=Index([&#x27;xmeas_1&#x27;, &#x27;xmeas_2&#x27;, &#x27;xmeas_3&#x27;, &#x27;xmeas_4&#x27;, &#x27;xmeas_5&#x27;, &#x27;xmeas_6&#x27;,\n",
       "       &#x27;xmeas_7&#x27;, &#x27;xmeas_8&#x27;, &#x27;xmeas_9&#x27;, &#x27;xmeas_10&#x27;, &#x27;xmeas_11&#x27;, &#x27;xmeas_12&#x27;,\n",
       "       &#x27;xmeas_13&#x27;, &#x27;xmeas_14&#x27;, &#x27;xmeas_15&#x27;, &#x27;xmeas_16&#x27;, &#x27;xmeas_17&#x27;, &#x27;xmeas_18&#x27;,\n",
       "       &#x27;xmeas_19&#x27;, &#x27;xmeas_20&#x27;, &#x27;xmeas_21&#x27;, &#x27;xmeas_22&#x27;, &#x27;xmeas_23&#x27;, &#x27;xmeas_24&#x27;,\n",
       "       &#x27;xmeas_25&#x27;, &#x27;xmeas_26&#x27;, &#x27;xmeas_27&#x27;, &#x27;xmeas_28&#x27;, &#x27;xmeas_29&#x27;, &#x27;xmeas_30&#x27;,\n",
       "       &#x27;xmeas_31&#x27;, &#x27;xmeas_32&#x27;, &#x27;xmeas_33&#x27;, &#x27;xmeas_34&#x27;, &#x27;xmeas_35&#x27;, &#x27;xmeas_36&#x27;,\n",
       "       &#x27;xmeas_37&#x27;, &#x27;xmeas_38&#x27;, &#x27;xmeas_39&#x27;, &#x27;xmeas_40&#x27;, &#x27;xmeas_41&#x27;, &#x27;xmv_1&#x27;,\n",
       "       &#x27;xmv_2&#x27;, &#x27;xmv_3&#x27;, &#x27;xmv_4&#x27;, &#x27;xmv_5&#x27;, &#x27;xmv_6&#x27;, &#x27;xmv_7&#x27;, &#x27;xmv_8&#x27;, &#x27;xmv_9&#x27;,\n",
       "       &#x27;xmv_10&#x27;, &#x27;xmv_11&#x27;],\n",
       "      dtype=&#x27;object&#x27;),\n",
       "      optimizer=STLSQ(threshold=0.2))</pre></div></div></div><div class=\"sk-parallel\"><div class=\"sk-parallel-item\"><div class=\"sk-item\"><div class=\"sk-label-container\"><div class=\"sk-label sk-toggleable\"><input class=\"sk-toggleable__control sk-hidden--visually\" id=\"sk-estimator-id-2\" type=\"checkbox\" ><label for=\"sk-estimator-id-2\" class=\"sk-toggleable__label sk-toggleable__label-arrow\">feature_library: PolynomialLibrary</label><div class=\"sk-toggleable__content\"><pre>PolynomialLibrary(degree=3)</pre></div></div></div><div class=\"sk-serial\"><div class=\"sk-item\"><div class=\"sk-estimator sk-toggleable\"><input class=\"sk-toggleable__control sk-hidden--visually\" id=\"sk-estimator-id-3\" type=\"checkbox\" ><label for=\"sk-estimator-id-3\" class=\"sk-toggleable__label sk-toggleable__label-arrow\">PolynomialLibrary</label><div class=\"sk-toggleable__content\"><pre>PolynomialLibrary(degree=3)</pre></div></div></div></div></div></div><div class=\"sk-parallel-item\"><div class=\"sk-item\"><div class=\"sk-label-container\"><div class=\"sk-label sk-toggleable\"><input class=\"sk-toggleable__control sk-hidden--visually\" id=\"sk-estimator-id-4\" type=\"checkbox\" ><label for=\"sk-estimator-id-4\" class=\"sk-toggleable__label sk-toggleable__label-arrow\">optimizer: STLSQ</label><div class=\"sk-toggleable__content\"><pre>STLSQ(threshold=0.2)</pre></div></div></div><div class=\"sk-serial\"><div class=\"sk-item\"><div class=\"sk-estimator sk-toggleable\"><input class=\"sk-toggleable__control sk-hidden--visually\" id=\"sk-estimator-id-5\" type=\"checkbox\" ><label for=\"sk-estimator-id-5\" class=\"sk-toggleable__label sk-toggleable__label-arrow\">STLSQ</label><div class=\"sk-toggleable__content\"><pre>STLSQ(threshold=0.2)</pre></div></div></div></div></div></div></div></div></div></div>"
      ],
      "text/plain": [
       "SINDy(differentiation_method=FiniteDifference(),\n",
       "      feature_library=PolynomialLibrary(degree=3),\n",
       "      feature_names=Index(['xmeas_1', 'xmeas_2', 'xmeas_3', 'xmeas_4', 'xmeas_5', 'xmeas_6',\n",
       "       'xmeas_7', 'xmeas_8', 'xmeas_9', 'xmeas_10', 'xmeas_11', 'xmeas_12',\n",
       "       'xmeas_13', 'xmeas_14', 'xmeas_15', 'xmeas_16', 'xmeas_17', 'xmeas_18',\n",
       "       'xmeas_19', 'xmeas_20', 'xmeas_21', 'xmeas_22', 'xmeas_23', 'xmeas_24',\n",
       "       'xmeas_25', 'xmeas_26', 'xmeas_27', 'xmeas_28', 'xmeas_29', 'xmeas_30',\n",
       "       'xmeas_31', 'xmeas_32', 'xmeas_33', 'xmeas_34', 'xmeas_35', 'xmeas_36',\n",
       "       'xmeas_37', 'xmeas_38', 'xmeas_39', 'xmeas_40', 'xmeas_41', 'xmv_1',\n",
       "       'xmv_2', 'xmv_3', 'xmv_4', 'xmv_5', 'xmv_6', 'xmv_7', 'xmv_8', 'xmv_9',\n",
       "       'xmv_10', 'xmv_11'],\n",
       "      dtype='object'),\n",
       "      optimizer=STLSQ(threshold=0.2))"
      ]
     },
     "execution_count": 12,
     "metadata": {},
     "output_type": "execute_result"
    }
   ],
   "source": [
    "model.fit(X_np, t=dt)"
   ]
  },
  {
   "cell_type": "markdown",
   "metadata": {},
   "source": [
    "We can inspect the governing equations discovered by the model and check whether they seem reasonable with the `print` function."
   ]
  },
  {
   "cell_type": "code",
   "execution_count": 13,
   "metadata": {},
   "outputs": [
    {
     "name": "stdout",
     "output_type": "stream",
     "text": [
      "(xmeas_1)' = 0.000\n",
      "(xmeas_2)' = 0.415 xmeas_9 xmeas_31 xmv_11 + -0.472 xmeas_26 xmeas_31 xmv_11\n",
      "(xmeas_3)' = 0.312 xmeas_6 xmeas_10 xmeas_37 + -0.313 xmeas_6 xmeas_37 xmv_6\n",
      "(xmeas_4)' = 0.000\n",
      "(xmeas_5)' = 0.000\n",
      "(xmeas_6)' = 0.000\n",
      "(xmeas_7)' = 0.000\n",
      "(xmeas_8)' = 0.000\n",
      "(xmeas_9)' = 0.000\n",
      "(xmeas_10)' = -0.666 xmeas_1 xmeas_40^2 + 0.658 xmeas_40^2 xmv_3\n",
      "(xmeas_11)' = 0.000\n",
      "(xmeas_12)' = 0.000\n",
      "(xmeas_13)' = 0.000\n",
      "(xmeas_14)' = 0.000\n",
      "(xmeas_15)' = 0.000\n",
      "(xmeas_16)' = 0.000\n",
      "(xmeas_17)' = 0.000\n",
      "(xmeas_18)' = 0.000\n",
      "(xmeas_19)' = 0.000\n",
      "(xmeas_20)' = 0.000\n",
      "(xmeas_21)' = 0.000\n",
      "(xmeas_22)' = 0.000\n",
      "(xmeas_23)' = 2.224 xmeas_1 xmeas_6 xmv_4 + -2.148 xmeas_6 xmv_3 xmv_4\n",
      "(xmeas_24)' = 0.000\n",
      "(xmeas_25)' = 0.000\n",
      "(xmeas_26)' = 0.480 xmeas_2^2 xmeas_21 + -0.436 xmeas_2 xmeas_21^2\n",
      "(xmeas_27)' = 0.000\n",
      "(xmeas_28)' = 0.000\n",
      "(xmeas_29)' = 0.000\n",
      "(xmeas_30)' = 0.477 xmeas_4 xmeas_19 xmeas_26 + -0.522 xmeas_4 xmeas_26 xmv_9\n",
      "(xmeas_31)' = 0.000\n",
      "(xmeas_32)' = 0.000\n",
      "(xmeas_33)' = 0.000\n",
      "(xmeas_34)' = 0.000\n",
      "(xmeas_35)' = 0.000\n",
      "(xmeas_36)' = 0.325 xmeas_18 xmeas_23 xmv_4 + -0.310 xmeas_19 xmeas_23 xmv_4\n",
      "(xmeas_37)' = 0.000\n",
      "(xmeas_38)' = 0.000\n",
      "(xmeas_39)' = 0.000\n",
      "(xmeas_40)' = 0.000\n",
      "(xmeas_41)' = 0.000\n",
      "(xmv_1)' = 0.310 xmeas_9 xmeas_21 xmv_1 + -0.346 xmeas_26 xmeas_40 xmv_10\n",
      "(xmv_2)' = 0.000\n",
      "(xmv_3)' = 0.000\n",
      "(xmv_4)' = 0.000\n",
      "(xmv_5)' = 0.000\n",
      "(xmv_6)' = 0.000\n",
      "(xmv_7)' = 0.000\n",
      "(xmv_8)' = 0.000\n",
      "(xmv_9)' = 0.000\n",
      "(xmv_10)' = 0.000\n",
      "(xmv_11)' = 0.000\n"
     ]
    }
   ],
   "source": [
    "model.print()"
   ]
  }
 ],
 "metadata": {
  "interpreter": {
   "hash": "1e901e0b9657d6d01b8038b41da9ec41cd4f89a2b0ee199ecc3cff3e367b917b"
  },
  "kernelspec": {
   "display_name": "Python 3.10.12 ('HAVOK_test')",
   "language": "python",
   "name": "python3"
  },
  "language_info": {
   "codemirror_mode": {
    "name": "ipython",
    "version": 3
   },
   "file_extension": ".py",
   "mimetype": "text/x-python",
   "name": "python",
   "nbconvert_exporter": "python",
   "pygments_lexer": "ipython3",
   "version": "3.10.12"
  },
  "orig_nbformat": 4
 },
 "nbformat": 4,
 "nbformat_minor": 2
}
